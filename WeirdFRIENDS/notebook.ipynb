{
 "cells": [
  {
   "cell_type": "code",
   "execution_count": null,
   "id": "5e38aa67",
   "metadata": {},
   "outputs": [],
   "source": [
    "#Original dataset: https://www.kaggle.com/datasets/rezaghari/friends-series-dataset?select=friends_episodes_v3.csv"
   ]
  },
  {
   "cell_type": "markdown",
   "id": "4cd65e84",
   "metadata": {},
   "source": [
    "# Finding the Weirdest FRIENDS Episodes\n",
    "The goal of this notebook is to identify the \"weirdest\" episodes of the TV show FRIENDS using natural language processing and unsupervised anomaly detection. By embedding the episode titles and summaries into high-dimensional vectors, we can use machine learning to spot episodes that stand out from the rest in terms of their content.\n",
    "\n",
    "---"
   ]
  },
  {
   "cell_type": "markdown",
   "id": "f4de1e32",
   "metadata": {},
   "source": [
    "## Data Loading and Preparation: \n",
    "We start by loading a dataset of FRIENDS episodes, which includes the episode title and a brief summary for each episode. "
   ]
  },
  {
   "cell_type": "code",
   "execution_count": 2,
   "id": "f4873626",
   "metadata": {},
   "outputs": [
    {
     "data": {
      "text/html": [
       "<div>\n",
       "<style scoped>\n",
       "    .dataframe tbody tr th:only-of-type {\n",
       "        vertical-align: middle;\n",
       "    }\n",
       "\n",
       "    .dataframe tbody tr th {\n",
       "        vertical-align: top;\n",
       "    }\n",
       "\n",
       "    .dataframe thead th {\n",
       "        text-align: right;\n",
       "    }\n",
       "</style>\n",
       "<table border=\"1\" class=\"dataframe\">\n",
       "  <thead>\n",
       "    <tr style=\"text-align: right;\">\n",
       "      <th></th>\n",
       "      <th>Year_of_prod</th>\n",
       "      <th>Season</th>\n",
       "      <th>Episode Number</th>\n",
       "      <th>Episode_Title</th>\n",
       "      <th>Duration</th>\n",
       "      <th>Summary</th>\n",
       "      <th>Director</th>\n",
       "      <th>Stars</th>\n",
       "      <th>Votes</th>\n",
       "    </tr>\n",
       "  </thead>\n",
       "  <tbody>\n",
       "    <tr>\n",
       "      <th>0</th>\n",
       "      <td>1994</td>\n",
       "      <td>1</td>\n",
       "      <td>1</td>\n",
       "      <td>The One Where Monica Gets a Roommate: The Pilot</td>\n",
       "      <td>22</td>\n",
       "      <td>Monica and the gang introduce Rachel to the \"r...</td>\n",
       "      <td>James Burrows</td>\n",
       "      <td>8.3</td>\n",
       "      <td>7440</td>\n",
       "    </tr>\n",
       "    <tr>\n",
       "      <th>1</th>\n",
       "      <td>1994</td>\n",
       "      <td>1</td>\n",
       "      <td>2</td>\n",
       "      <td>The One with the Sonogram at the End</td>\n",
       "      <td>22</td>\n",
       "      <td>Ross finds out his ex-wife is pregnant. Rachel...</td>\n",
       "      <td>James Burrows</td>\n",
       "      <td>8.1</td>\n",
       "      <td>4888</td>\n",
       "    </tr>\n",
       "    <tr>\n",
       "      <th>2</th>\n",
       "      <td>1994</td>\n",
       "      <td>1</td>\n",
       "      <td>3</td>\n",
       "      <td>The One with the Thumb</td>\n",
       "      <td>22</td>\n",
       "      <td>Monica becomes irritated when everyone likes h...</td>\n",
       "      <td>James Burrows</td>\n",
       "      <td>8.2</td>\n",
       "      <td>4605</td>\n",
       "    </tr>\n",
       "    <tr>\n",
       "      <th>3</th>\n",
       "      <td>1994</td>\n",
       "      <td>1</td>\n",
       "      <td>4</td>\n",
       "      <td>The One with George Stephanopoulos</td>\n",
       "      <td>22</td>\n",
       "      <td>Joey and Chandler take Ross to a hockey game t...</td>\n",
       "      <td>James Burrows</td>\n",
       "      <td>8.1</td>\n",
       "      <td>4468</td>\n",
       "    </tr>\n",
       "    <tr>\n",
       "      <th>4</th>\n",
       "      <td>1994</td>\n",
       "      <td>1</td>\n",
       "      <td>5</td>\n",
       "      <td>The One with the East German Laundry Detergent</td>\n",
       "      <td>22</td>\n",
       "      <td>Eager to spend time with Rachel, Ross pretends...</td>\n",
       "      <td>Pamela Fryman</td>\n",
       "      <td>8.5</td>\n",
       "      <td>4438</td>\n",
       "    </tr>\n",
       "  </tbody>\n",
       "</table>\n",
       "</div>"
      ],
      "text/plain": [
       "   Year_of_prod  Season  Episode Number  \\\n",
       "0          1994       1               1   \n",
       "1          1994       1               2   \n",
       "2          1994       1               3   \n",
       "3          1994       1               4   \n",
       "4          1994       1               5   \n",
       "\n",
       "                                     Episode_Title  Duration  \\\n",
       "0  The One Where Monica Gets a Roommate: The Pilot        22   \n",
       "1             The One with the Sonogram at the End        22   \n",
       "2                           The One with the Thumb        22   \n",
       "3               The One with George Stephanopoulos        22   \n",
       "4   The One with the East German Laundry Detergent        22   \n",
       "\n",
       "                                             Summary       Director  Stars  \\\n",
       "0  Monica and the gang introduce Rachel to the \"r...  James Burrows    8.3   \n",
       "1  Ross finds out his ex-wife is pregnant. Rachel...  James Burrows    8.1   \n",
       "2  Monica becomes irritated when everyone likes h...  James Burrows    8.2   \n",
       "3  Joey and Chandler take Ross to a hockey game t...  James Burrows    8.1   \n",
       "4  Eager to spend time with Rachel, Ross pretends...  Pamela Fryman    8.5   \n",
       "\n",
       "   Votes  \n",
       "0   7440  \n",
       "1   4888  \n",
       "2   4605  \n",
       "3   4468  \n",
       "4   4438  "
      ]
     },
     "execution_count": 2,
     "metadata": {},
     "output_type": "execute_result"
    }
   ],
   "source": [
    "import pandas as pd\n",
    "original_df = pd.read_csv(\"friends_episodes_v3.csv\", encoding='cp1252')\n",
    "original_df['Summary'] = original_df['Summary'].apply(lambda x: x.encode('utf-8', 'replace').decode('utf-8'))\n",
    "original_df.head()"
   ]
  },
  {
   "cell_type": "code",
   "execution_count": 3,
   "id": "b31c2573",
   "metadata": {},
   "outputs": [
    {
     "name": "stdout",
     "output_type": "stream",
     "text": [
      "(236, 2)\n"
     ]
    },
    {
     "data": {
      "text/html": [
       "<div>\n",
       "<style scoped>\n",
       "    .dataframe tbody tr th:only-of-type {\n",
       "        vertical-align: middle;\n",
       "    }\n",
       "\n",
       "    .dataframe tbody tr th {\n",
       "        vertical-align: top;\n",
       "    }\n",
       "\n",
       "    .dataframe thead th {\n",
       "        text-align: right;\n",
       "    }\n",
       "</style>\n",
       "<table border=\"1\" class=\"dataframe\">\n",
       "  <thead>\n",
       "    <tr style=\"text-align: right;\">\n",
       "      <th></th>\n",
       "      <th>Episode_Title</th>\n",
       "      <th>Summary</th>\n",
       "    </tr>\n",
       "  </thead>\n",
       "  <tbody>\n",
       "    <tr>\n",
       "      <th>0</th>\n",
       "      <td>The One Where Monica Gets a Roommate: The Pilot</td>\n",
       "      <td>Monica and the gang introduce Rachel to the \"r...</td>\n",
       "    </tr>\n",
       "    <tr>\n",
       "      <th>1</th>\n",
       "      <td>The One with the Sonogram at the End</td>\n",
       "      <td>Ross finds out his ex-wife is pregnant. Rachel...</td>\n",
       "    </tr>\n",
       "    <tr>\n",
       "      <th>2</th>\n",
       "      <td>The One with the Thumb</td>\n",
       "      <td>Monica becomes irritated when everyone likes h...</td>\n",
       "    </tr>\n",
       "    <tr>\n",
       "      <th>3</th>\n",
       "      <td>The One with George Stephanopoulos</td>\n",
       "      <td>Joey and Chandler take Ross to a hockey game t...</td>\n",
       "    </tr>\n",
       "    <tr>\n",
       "      <th>4</th>\n",
       "      <td>The One with the East German Laundry Detergent</td>\n",
       "      <td>Eager to spend time with Rachel, Ross pretends...</td>\n",
       "    </tr>\n",
       "  </tbody>\n",
       "</table>\n",
       "</div>"
      ],
      "text/plain": [
       "                                     Episode_Title  \\\n",
       "0  The One Where Monica Gets a Roommate: The Pilot   \n",
       "1             The One with the Sonogram at the End   \n",
       "2                           The One with the Thumb   \n",
       "3               The One with George Stephanopoulos   \n",
       "4   The One with the East German Laundry Detergent   \n",
       "\n",
       "                                             Summary  \n",
       "0  Monica and the gang introduce Rachel to the \"r...  \n",
       "1  Ross finds out his ex-wife is pregnant. Rachel...  \n",
       "2  Monica becomes irritated when everyone likes h...  \n",
       "3  Joey and Chandler take Ross to a hockey game t...  \n",
       "4  Eager to spend time with Rachel, Ross pretends...  "
      ]
     },
     "execution_count": 3,
     "metadata": {},
     "output_type": "execute_result"
    }
   ],
   "source": [
    "df = original_df[[\"Episode_Title\",\"Summary\"]]\n",
    "print(df.shape)\n",
    "df.head()"
   ]
  },
  {
   "cell_type": "markdown",
   "id": "f56f9315",
   "metadata": {},
   "source": [
    "## Text Embedding\n",
    "\n",
    "To prepare the data for embedding, we concatenate the title and summary into a single text field for each episode. To capture the semantic meaning of each episode, we use a pre-trained sentence embedding model (such as `all-MiniLM-L6-v2` from Sentence Transformers). This model converts each episode's text into a 384-dimensional vector, where similar episodes are close together in this high-dimensional space."
   ]
  },
  {
   "cell_type": "code",
   "execution_count": 4,
   "id": "9d6810eb",
   "metadata": {},
   "outputs": [
    {
     "name": "stderr",
     "output_type": "stream",
     "text": [
      "C:\\Users\\mithu\\AppData\\Roaming\\Python\\Python313\\site-packages\\tqdm\\auto.py:21: TqdmWarning: IProgress not found. Please update jupyter and ipywidgets. See https://ipywidgets.readthedocs.io/en/stable/user_install.html\n",
      "  from .autonotebook import tqdm as notebook_tqdm\n",
      "C:\\Users\\mithu\\AppData\\Local\\Temp\\ipykernel_1568\\2099955338.py:2: SettingWithCopyWarning: \n",
      "A value is trying to be set on a copy of a slice from a DataFrame.\n",
      "Try using .loc[row_indexer,col_indexer] = value instead\n",
      "\n",
      "See the caveats in the documentation: https://pandas.pydata.org/pandas-docs/stable/user_guide/indexing.html#returning-a-view-versus-a-copy\n",
      "  df['text'] = df['Episode_Title'] + \". \" + df['Summary']\n",
      "Batches: 100%|██████████| 8/8 [00:05<00:00,  1.59it/s]\n"
     ]
    }
   ],
   "source": [
    "from sentence_transformers import SentenceTransformer\n",
    "df['text'] = df['Episode_Title'] + \". \" + df['Summary']\n",
    "model = SentenceTransformer('all-MiniLM-L6-v2')  # or any suitable model\n",
    "embeddings = model.encode(df['text'].tolist(), show_progress_bar=True)"
   ]
  },
  {
   "cell_type": "code",
   "execution_count": 5,
   "id": "eb44c410",
   "metadata": {},
   "outputs": [
    {
     "data": {
      "text/plain": [
       "array([[-0.06163617, -0.00724177, -0.08605129, ...,  0.16980025,\n",
       "         0.00630181, -0.00783357],\n",
       "       [-0.03714563,  0.01532045, -0.04863459, ...,  0.11940778,\n",
       "         0.06601115,  0.00470465],\n",
       "       [-0.03073537,  0.00085173,  0.00155782, ...,  0.00575437,\n",
       "        -0.0098543 ,  0.06319448],\n",
       "       ...,\n",
       "       [-0.0570685 ,  0.027488  , -0.00088583, ...,  0.20723753,\n",
       "         0.04050706, -0.00823143],\n",
       "       [-0.00528817,  0.02712562,  0.02982957, ...,  0.09810051,\n",
       "         0.08294815, -0.0153671 ],\n",
       "       [ 0.02464484,  0.01945987,  0.06406246, ...,  0.12363902,\n",
       "         0.03055756,  0.02324346]], shape=(236, 384), dtype=float32)"
      ]
     },
     "execution_count": 5,
     "metadata": {},
     "output_type": "execute_result"
    }
   ],
   "source": [
    "embeddings"
   ]
  },
  {
   "cell_type": "markdown",
   "id": "4611685b",
   "metadata": {},
   "source": [
    "## Anomaly Detection with Isolation Forest\n",
    "\n",
    "To find the \"weirdest\" episodes, we use the Isolation Forest algorithm. This unsupervised model is designed to detect outliers in high-dimensional data. It assigns an anomaly score to each episode based on how isolated it is from the rest. Episodes with the lowest scores are considered the most unusual or \"weird.\""
   ]
  },
  {
   "cell_type": "code",
   "execution_count": 6,
   "id": "2e08cc32",
   "metadata": {},
   "outputs": [
    {
     "name": "stdout",
     "output_type": "stream",
     "text": [
      "                          Episode_Title  \\\n",
      "136        The One That Could Have Been   \n",
      "104  The One with All the Thanksgivings   \n",
      "157  The One Where They're Up All Night   \n",
      "65       The One with the Hypnosis Tape   \n",
      "160       The One with Joey's New Brain   \n",
      "116         The One with the Ride Along   \n",
      "188       The One with Joey's Interview   \n",
      "135        The One That Could Have Been   \n",
      "234                The Last One: Part 1   \n",
      "19   The One with the Evil Orthodontist   \n",
      "\n",
      "                                               Summary  anomaly_score  \n",
      "136  The gang continue to think about how different...      -0.072809  \n",
      "104  The gang remember and share with each other th...      -0.046759  \n",
      "157  After the gang head up to the roof to see a pa...      -0.016059  \n",
      "65   Monica goes out with a guy who turns out to be...      -0.010175  \n",
      "160  Joey gets an opportunity to rejoin \"Days of Ou...      -0.007837  \n",
      "116  The guys go on a ride-along with Gary. Rachel ...      -0.005165  \n",
      "188  Joey prepares for his epic interview with Soap...      -0.003929  \n",
      "135  When Rachel hears Barry and Mindy are getting ...      -0.003781  \n",
      "234  Erica gives birth to the baby that Monica and ...      -0.002454  \n",
      "19   Rachel and Barry start dating again, despite t...      -0.001380  \n"
     ]
    },
    {
     "name": "stderr",
     "output_type": "stream",
     "text": [
      "C:\\Users\\mithu\\AppData\\Local\\Temp\\ipykernel_1568\\2712742547.py:5: SettingWithCopyWarning: \n",
      "A value is trying to be set on a copy of a slice from a DataFrame.\n",
      "Try using .loc[row_indexer,col_indexer] = value instead\n",
      "\n",
      "See the caveats in the documentation: https://pandas.pydata.org/pandas-docs/stable/user_guide/indexing.html#returning-a-view-versus-a-copy\n",
      "  df['anomaly_score'] = scores\n"
     ]
    }
   ],
   "source": [
    "from sklearn.ensemble import IsolationForest\n",
    "iso = IsolationForest(contamination=0.05, random_state=42)\n",
    "iso.fit(embeddings)\n",
    "scores = iso.decision_function(embeddings)\n",
    "df['anomaly_score'] = scores\n",
    "\n",
    "# 4. Find weirdest episodes\n",
    "weirdest = df.nsmallest(10, 'anomaly_score')[['Episode_Title', 'Summary', 'anomaly_score']]\n",
    "print(weirdest)"
   ]
  },
  {
   "cell_type": "markdown",
   "id": "2aa74d64",
   "metadata": {},
   "source": [
    "## Dimensionality Reduction and Visualization.\n",
    "\n",
    "Since we can't visualize 384-dimensional data directly, we use Principal Component Analysis (PCA) to reduce the embeddings to 2 dimensions. This allows us to plot all episodes on a 2D scatter plot for intuitive exploration.\n",
    "\n",
    "We plot all episodes in the 2D PCA space using Plotly. The weirdest episodes (as determined by Isolation Forest) are highlighted with a different color or marker. Hovering over a point reveals the episode title."
   ]
  },
  {
   "cell_type": "code",
   "execution_count": 11,
   "id": "30848379",
   "metadata": {},
   "outputs": [
    {
     "name": "stderr",
     "output_type": "stream",
     "text": [
      "C:\\Users\\mithu\\AppData\\Local\\Temp\\ipykernel_1568\\1022029652.py:5: SettingWithCopyWarning:\n",
      "\n",
      "\n",
      "A value is trying to be set on a copy of a slice from a DataFrame.\n",
      "Try using .loc[row_indexer,col_indexer] = value instead\n",
      "\n",
      "See the caveats in the documentation: https://pandas.pydata.org/pandas-docs/stable/user_guide/indexing.html#returning-a-view-versus-a-copy\n",
      "\n",
      "C:\\Users\\mithu\\AppData\\Local\\Temp\\ipykernel_1568\\1022029652.py:6: SettingWithCopyWarning:\n",
      "\n",
      "\n",
      "A value is trying to be set on a copy of a slice from a DataFrame.\n",
      "Try using .loc[row_indexer,col_indexer] = value instead\n",
      "\n",
      "See the caveats in the documentation: https://pandas.pydata.org/pandas-docs/stable/user_guide/indexing.html#returning-a-view-versus-a-copy\n",
      "\n",
      "C:\\Users\\mithu\\AppData\\Local\\Temp\\ipykernel_1568\\1022029652.py:9: SettingWithCopyWarning:\n",
      "\n",
      "\n",
      "A value is trying to be set on a copy of a slice from a DataFrame.\n",
      "Try using .loc[row_indexer,col_indexer] = value instead\n",
      "\n",
      "See the caveats in the documentation: https://pandas.pydata.org/pandas-docs/stable/user_guide/indexing.html#returning-a-view-versus-a-copy\n",
      "\n"
     ]
    },
    {
     "data": {
      "application/vnd.plotly.v1+json": {
       "config": {
        "plotlyServerURL": "https://plot.ly"
       },
       "data": [
        {
         "hovertemplate": "<b>%{hovertext}</b><br><br>is_weird=False<br>pca1=%{x}<br>pca2=%{y}<extra></extra>",
         "hovertext": [
          "The One Where Monica Gets a Roommate: The Pilot",
          "The One with the Sonogram at the End",
          "The One with the Thumb",
          "The One with George Stephanopoulos",
          "The One with the East German Laundry Detergent",
          "The One with the Butt",
          "The One with the Blackout",
          "The One Where Nana Dies Twice",
          "The One Where Underdog Gets Away",
          "The One with the Monkey",
          "The One with Mrs. Bing",
          "The One with the Dozen Lasagnas",
          "The One with the Boobies",
          "The One with the Candy Hearts",
          "The One with the Stoned Guy",
          "The One with Two Parts: Part 1",
          "The One with Two Parts: Part 2",
          "The One with All the Poker",
          "The One Where the Monkey Gets Away",
          "The One with the Fake Monica",
          "The One with the Ick Factor",
          "The One with the Birth",
          "The One Where Rachel Finds Out",
          "The One with Ross's New Girlfriend",
          "The One with the Breast Milk",
          "The One Where Heckles Dies",
          "The One with Phoebe's Husband",
          "The One with Five Steaks and an Eggplant",
          "The One with the Baby on the Bus",
          "The One Where Ross Finds Out",
          "The One with the List",
          "The One with Phoebe's Dad",
          "The One with Russ",
          "The One with the Lesbian Wedding",
          "The One After the Superbowl: Part 1",
          "The One After the Superbowl: Part 2",
          "The One with the Prom Video",
          "The One Where Ross and Rachel... You Know",
          "The One Where Joey Moves Out",
          "The One Where Eddie Moves In",
          "The One Where Dr. Ramoray Dies",
          "The One Where Eddie Won't Go",
          "The One Where Old Yeller Dies",
          "The One with the Bullies",
          "The One with the Two Parties",
          "The One with the Chicken Pox",
          "The One with Barry and Mindy's Wedding",
          "The One with the Princess Leia Fantasy",
          "The One Where No One's Ready",
          "The One with the Jam",
          "The One with the Metaphorical Tunnel",
          "The One with Frank Jr.",
          "The One with the Flashback",
          "The One with the Race Car Bed",
          "The One with the Giant Poking Device",
          "The One with the Football",
          "The One Where Rachel Quits",
          "The One Where Chandler Can't Remember Which Sister",
          "The One with All the Jealousy",
          "The One Where Monica and Richard Are Just Friends",
          "The One with Phoebe's Ex-Partner",
          "The One Where Ross and Rachel Take a Break",
          "The One with the Morning After",
          "The One Without the Ski Trip",
          "The One with the Tiny T-Shirt",
          "The One with the Dollhouse",
          "The One with the Chick and the Duck",
          "The One with the Screamer",
          "The One with Ross's Thing",
          "The One with the Ultimate Fighting Champion",
          "The One at the Beach",
          "The One with the Jellyfish",
          "The One with the Cat",
          "The One with the 'Cuffs",
          "The One with the Ballroom Dancing",
          "The One with Joey's New Girlfriend",
          "The One with the Dirty Girl",
          "The One Where Chandler Crosses the Line",
          "The One with Chandler in a Box",
          "The One Where They're Going to Party!",
          "The One with the Girl from Poughkeepsie",
          "The One with Phoebe's Uterus",
          "The One with the Embryos",
          "The One with Rachel's Crush",
          "The One with Joey's Dirty Day",
          "The One with All the Rugby",
          "The One with the Fake Party",
          "The One with the Free Porn",
          "The One with Rachel's New Dress",
          "The One with All the Haste",
          "The One with All the Wedding Dresses",
          "The One with the Invitation",
          "The One with the Worst Best Man Ever",
          "The One with Ross's Wedding",
          "The One with Ross's Wedding",
          "The One After Ross Says Rachel",
          "The One with All the Kissing",
          "The One Hundredth",
          "The One Where Phoebe Hates PBS",
          "The One with the Kips",
          "The One with the Yeti",
          "The One Where Ross Moves In",
          "The One with Ross's Sandwich",
          "The One with the Inappropriate Sister",
          "The One with All the Resolutions",
          "The One with Chandler's Work Laugh",
          "The One with Joey's Bag",
          "The One Where Everybody Finds Out",
          "The One with the Girl Who Hits Joey",
          "The One with the Cop",
          "The One with Rachel's Inadvertent Kiss",
          "The One Where Rachel Smokes",
          "The One Where Ross Can't Flirt",
          "The One with the Ball",
          "The One with Joey's Big Break",
          "The One in Vegas: Part 1",
          "The One in Vegas: Part 2",
          "The One After Vegas",
          "The One Where Ross Hugs Rachel",
          "The One with Ross's Denial",
          "The One Where Joey Loses His Insurance",
          "The One with Joey's Porsche",
          "The One on the Last Night",
          "The One Where Phoebe Runs",
          "The One with Ross' Teeth",
          "The One Where Ross Got High",
          "The One with the Routine",
          "The One with the Apothecary Table",
          "The One with the Joke",
          "The One with Rachel's Sister",
          "The One Where Chandler Can't Cry",
          "The One with Unagi",
          "The One Where Ross Dates a Student",
          "The One with Joey's Fridge",
          "The One with Mac and C.H.E.E.S.E.",
          "The One Where Ross Meets Elizabeth's Dad",
          "The One Where Paul's the Man",
          "The One with the Ring",
          "The One with the Proposal",
          "The One with the Proposal",
          "The One with Monica's Thunder",
          "The One with Rachel's Book",
          "The One with Phoebe's Cookies",
          "The One with Rachel's Assistant",
          "The One with the Engagement Picture",
          "The One with the Nap Partners",
          "The One with Ross's Library Book",
          "The One Where Chandler Doesn't Like Dogs",
          "The One with All the Candy",
          "The One with the Holiday Armadillo",
          "The One with All the Cheesecakes",
          "The One Where Rosita Dies",
          "The One Where They All Turn Thirty",
          "The One with the Truth About London",
          "The One with the Cheap Wedding Dress",
          "The One with Joey's Award",
          "The One with Ross and Monica's Cousin",
          "The One with Rachel's Big Kiss",
          "The One with the Vows",
          "The One with Chandler's Dad",
          "The One with Monica and Chandler's Wedding: Part 1",
          "The One with Monica and Chandler's Wedding: Part 2",
          "The One After I Do",
          "The One with the Red Sweater",
          "The One Where Rachel Tells...",
          "The One with the Videotape",
          "The One with Rachel's Date",
          "The One with the Halloween Party",
          "The One with the Stain",
          "The One with the Stripper",
          "The One with the Rumor",
          "The One with Monica's Boots",
          "The One with Ross's Step Forward",
          "The One Where Joey Dates Rachel",
          "The One Where Chandler Takes a Bath",
          "The One with the Secret Closet",
          "The One with the Birthing Video",
          "The One Where Joey Tells Rachel",
          "The One with the Tea Leaves",
          "The One in Massapequa",
          "The One with the Baby Shower",
          "The One with the Cooking Class",
          "The One Where Rachel Is Late",
          "The One Where Rachel Has a Baby: Part 1",
          "The One Where Rachel Has a Baby: Part 2",
          "The One Where No One Proposes",
          "The One Where Emma Cries",
          "The One with the Pediatrician",
          "The One with the Sharks",
          "The One with Phoebe's Birthday Dinner",
          "The One with the Male Nanny",
          "The One with Ross's Inappropriate Song",
          "The One with Rachel's Other Sister",
          "The One with Rachel's Phone Number",
          "The One with Christmas in Tulsa",
          "The One Where Rachel Goes Back to Work",
          "The One with Phoebe's Rats",
          "The One Where Monica Sings",
          "The One with the Blind Dates",
          "The One with the Mugging",
          "The One with the Boob Job",
          "The One with the Memorial Service",
          "The One with the Lottery",
          "The One with Rachel's Dream",
          "The One with the Soap Opera Party",
          "The One with the Fertility Test",
          "The One with the Donor",
          "The One in Barbados",
          "The One in Barbados",
          "The One After Joey and Rachel Kiss",
          "The One Where Ross Is Fine",
          "The One with Ross's Tan",
          "The One with the Cake",
          "The One Where Rachel's Sister Babysits",
          "The One with Ross' Grant",
          "The One with the Home Study",
          "The One with the Late Thanksgiving",
          "The One with the Birth Mother",
          "The One Where Chandler Gets Caught",
          "The One Where the Stripper Cries",
          "The One with Phoebe's Wedding",
          "The One Where Joey Speaks French",
          "The One with Princess Consuela",
          "The One Where Estelle Dies",
          "The One with Rachel's Going Away Party",
          "The Last One: Part 2"
         ],
         "legendgroup": "False",
         "marker": {
          "color": "#636efa",
          "symbol": "circle"
         },
         "mode": "markers",
         "name": "False",
         "orientation": "v",
         "showlegend": true,
         "type": "scatter",
         "x": {
          "bdata": "UaCBPoHdOz6TSn6+wB5lPAjSjL6+VCK+nesdPlm/RT5ejsc+/Wo5PsNT7b0SdPu91fztO1h9iD1QNAk+i4HtvUlPyr1ZK2w+LlW/Pq9bxz3nKga9OhQUPq4qEb1LpG6+uv4+vV4RTj3EwC69pQ0EvajTW7yzx9q99VVuvhAl2T1B97E9gH8iPqd4nj3pHaE9fWU1Pgio4rvBHFm+dYtnvSSYFr2+y0K9zsyZvB+9IL73F4w+qZGFvT04h710HTS9nqv5PfMDT7ypBFu+VXkkvtHMGz/kUB+9qE5UvjrZgD7MDU+8ctqDPIr96L3i+02+uVkkvt8NRbv/0Uc+b8fSvW1aGr5Bt6y9qlbovd/TUL3NFoK94nlHvpP6OL1q39C9kKOZPbYT8r3DZiu9z3KJvmNH0b24irC9g1YIvVRyNr7KY+u9+sLlvQOz+r0OlLi9CXNpPYPB5L14q9k7eslUvghgmj1QaLi8TaLAvVw7/r094UG+zdAvPAUvcbxElAc94+EnvpP3HL0C1Ey+Y8S6PGNuPzysFPm9H9MkPYqZGb4D+xE70vU0PdxwEL6MuXA9efIdvTNOYLxCPzE696Tsve+/jr2VTRG95PxOvV40vz3tpEu9xoYnvkYjubvcs7y6LQcUPfCfVr0Yehs8pjUxPS0MQby7yvC8bhmdvdti3b0CECa+n3IhPnNQGb6lLvm9wRLSu92w7717RUI8i0NCvU1qzj5W+2g9IKtevZcgOr5vtzm8+sP6uvGovr3Li5y9VXmBvn37Bb7PAY89YLlLvsTwf71KfkW9AFEmveR5uz2lPro+uzkXPvmPtz1mC+Y9i5ravXf51j3B2bC8FZxdPX4hzL3zsYA9l/AaPgzIXD3mKtG9Yc2PPrOqmb0b4vu9NfykvSxDqr1SVHU9SrHQPXc9DL5Vhlq4j2n9vUS05zwJabM+TolBPYAjVL3W/So9v2M1vqLbij08jWW9v+R2PuowgD4YquA9zTJlPosaSb5V1p09JchsPR1DJD1yYqc9dnabPiHo1D3JNxS9xVqYvcW7wz1EPpg8OU5mvcI6Mr71wuS9UrXzPMZlBb7QcdQ9USZPPkaHvL2rCb+98fJAvr/Tqj0pjQG913YQvprkFr7cLXk+AuMOvi53qj3uPqO9Z9wSPfJKGb7sZ6i9P/3evRHOHj6Gzoe95qglPAG7mD11gsE+FLBAvg==",
          "dtype": "f4"
         },
         "xaxis": "x",
         "y": {
          "bdata": "PwXYPdhn1D3+Nic+iiGsu9gPzD1UG/s9HWS8vLCJTrw9JhM9yBs/vq7Gnr0qaj68qrxxvvRKQj0AbD8+htQ4vnMXor1dHLY9bQtmvhRcoz2eizg9U8j1vdSW+L1LpxE9E3OVPTM5Xr62Rl484SJPPIk3Vb4Ra5M8Gp9nPgFiQb61Klo+GHpUPRgqWL5hW8I9Y5WOPbmg2D2fk+e9EUE8vZI7l71+FY+9FdhLvhwx87ukjtc8mcHxvVH/dT4LEQY+StBbvXrAg707zFW+obwNvoGbNz0NIp+9WLmFvayOSz4l3Ba+1U0COkSB4z2K1727ayiavW4o5L0pVOA8QjCevAUMNT4ejA49vyH8PTUEMr66bp+94QKrPXJQq72fFVU9nJwmvnjoij2TGRe+U4zNvV31Cb0S2zS+nnsRPSf3zz3cyVE9OhK9vOMdD77putc93esbvkZjDz5vB7K9rYaYPFw5973OxO09ABFlPrZyKz7Yyo096akkvbajzz0VEs89TPyIPc8aI74sTAa9w47kPZmVBb5Ss0q+VRP9vQr/2r3UJuw91E0ZPqWZHL4DWre96QzJvLOU870bIR68k3CuvXS5GT2zgSO+ZPtTvrDUNz3D7hM+9wJ/PJO1LLwqogE+NKE/vup4870Q4xk+s3FSvva8m7xapzy9gC+VPQ/o/71RVDk9T0wUPuuz+b0Yu8u8JI91PEz41r3TWOm9I4ZQvkB5Ez3Nq+Y9jCdqPo16cT5rFqE989f3vPB4eb2Bm208o+kGPgmrDj230jU+HAOqvSD1LD3OZ8+9MHC8vVSRWb53fAI9HN3hPU/gqj6b4ou9KGqCPJ2C6T2GRPU+BocbPs0rRD6uEsA9WxzcvQ7goT0D/Is+8uyuPSTPrz0KfSk9AIbgvMRIHj5SspU++6gtPnBVuD1griU9xtm8PZ0nYz6F7mO7z2FevjSyYD52hPs94y+tvQSKkD3x2yS9thhwvWl98r007XE9tfOlvSEfJr1tK1w+9hHlvQ0CBD5Va3q+oRSXvMN2Ib0pP4E+iiRsvmtwn76O6ks952A9u09WKL40dR8+0LSkvFoAlT43H/q9/gKAvUXJjz4dXXG+sKHePNtsNb4+ilm+1KqMvR0QPD2awLc9TeMRvgqufrxhgpk9QMNoPcVxKL5Uz3S9ErBcPOgAEL5CgYe+vl6AvrHb9r2Cd5+8GtyqvQ==",
          "dtype": "f4"
         },
         "yaxis": "y"
        },
        {
         "hovertemplate": "<b>%{hovertext}</b><br><br>is_weird=True<br>pca1=%{x}<br>pca2=%{y}<extra></extra>",
         "hovertext": [
          "The One with the Evil Orthodontist",
          "The One with the Hypnosis Tape",
          "The One with All the Thanksgivings",
          "The One with the Ride Along",
          "The One That Could Have Been",
          "The One That Could Have Been",
          "The One Where They're Up All Night",
          "The One with Joey's New Brain",
          "The One with Joey's Interview",
          "The Last One: Part 1"
         ],
         "legendgroup": "True",
         "marker": {
          "color": "#EF553B",
          "symbol": "diamond"
         },
         "mode": "markers",
         "name": "True",
         "orientation": "v",
         "showlegend": true,
         "type": "scatter",
         "x": {
          "bdata": "vdwJviZ0qLxVSwo/IHeVPnj5kz6w3v0+qhAZP7j9Qj7WZy0+TKXpPA==",
          "dtype": "f4"
         },
         "xaxis": "x",
         "y": {
          "bdata": "FFZ9Pp7KkT4OGM49b61BPBoIBD4kh6w9eLgVPEoWh77UVpS97VvNPQ==",
          "dtype": "f4"
         },
         "yaxis": "y"
        }
       ],
       "layout": {
        "legend": {
         "title": {
          "text": "is_weird"
         },
         "tracegroupgap": 0
        },
        "template": {
         "data": {
          "bar": [
           {
            "error_x": {
             "color": "#2a3f5f"
            },
            "error_y": {
             "color": "#2a3f5f"
            },
            "marker": {
             "line": {
              "color": "#E5ECF6",
              "width": 0.5
             },
             "pattern": {
              "fillmode": "overlay",
              "size": 10,
              "solidity": 0.2
             }
            },
            "type": "bar"
           }
          ],
          "barpolar": [
           {
            "marker": {
             "line": {
              "color": "#E5ECF6",
              "width": 0.5
             },
             "pattern": {
              "fillmode": "overlay",
              "size": 10,
              "solidity": 0.2
             }
            },
            "type": "barpolar"
           }
          ],
          "carpet": [
           {
            "aaxis": {
             "endlinecolor": "#2a3f5f",
             "gridcolor": "white",
             "linecolor": "white",
             "minorgridcolor": "white",
             "startlinecolor": "#2a3f5f"
            },
            "baxis": {
             "endlinecolor": "#2a3f5f",
             "gridcolor": "white",
             "linecolor": "white",
             "minorgridcolor": "white",
             "startlinecolor": "#2a3f5f"
            },
            "type": "carpet"
           }
          ],
          "choropleth": [
           {
            "colorbar": {
             "outlinewidth": 0,
             "ticks": ""
            },
            "type": "choropleth"
           }
          ],
          "contour": [
           {
            "colorbar": {
             "outlinewidth": 0,
             "ticks": ""
            },
            "colorscale": [
             [
              0,
              "#0d0887"
             ],
             [
              0.1111111111111111,
              "#46039f"
             ],
             [
              0.2222222222222222,
              "#7201a8"
             ],
             [
              0.3333333333333333,
              "#9c179e"
             ],
             [
              0.4444444444444444,
              "#bd3786"
             ],
             [
              0.5555555555555556,
              "#d8576b"
             ],
             [
              0.6666666666666666,
              "#ed7953"
             ],
             [
              0.7777777777777778,
              "#fb9f3a"
             ],
             [
              0.8888888888888888,
              "#fdca26"
             ],
             [
              1,
              "#f0f921"
             ]
            ],
            "type": "contour"
           }
          ],
          "contourcarpet": [
           {
            "colorbar": {
             "outlinewidth": 0,
             "ticks": ""
            },
            "type": "contourcarpet"
           }
          ],
          "heatmap": [
           {
            "colorbar": {
             "outlinewidth": 0,
             "ticks": ""
            },
            "colorscale": [
             [
              0,
              "#0d0887"
             ],
             [
              0.1111111111111111,
              "#46039f"
             ],
             [
              0.2222222222222222,
              "#7201a8"
             ],
             [
              0.3333333333333333,
              "#9c179e"
             ],
             [
              0.4444444444444444,
              "#bd3786"
             ],
             [
              0.5555555555555556,
              "#d8576b"
             ],
             [
              0.6666666666666666,
              "#ed7953"
             ],
             [
              0.7777777777777778,
              "#fb9f3a"
             ],
             [
              0.8888888888888888,
              "#fdca26"
             ],
             [
              1,
              "#f0f921"
             ]
            ],
            "type": "heatmap"
           }
          ],
          "histogram": [
           {
            "marker": {
             "pattern": {
              "fillmode": "overlay",
              "size": 10,
              "solidity": 0.2
             }
            },
            "type": "histogram"
           }
          ],
          "histogram2d": [
           {
            "colorbar": {
             "outlinewidth": 0,
             "ticks": ""
            },
            "colorscale": [
             [
              0,
              "#0d0887"
             ],
             [
              0.1111111111111111,
              "#46039f"
             ],
             [
              0.2222222222222222,
              "#7201a8"
             ],
             [
              0.3333333333333333,
              "#9c179e"
             ],
             [
              0.4444444444444444,
              "#bd3786"
             ],
             [
              0.5555555555555556,
              "#d8576b"
             ],
             [
              0.6666666666666666,
              "#ed7953"
             ],
             [
              0.7777777777777778,
              "#fb9f3a"
             ],
             [
              0.8888888888888888,
              "#fdca26"
             ],
             [
              1,
              "#f0f921"
             ]
            ],
            "type": "histogram2d"
           }
          ],
          "histogram2dcontour": [
           {
            "colorbar": {
             "outlinewidth": 0,
             "ticks": ""
            },
            "colorscale": [
             [
              0,
              "#0d0887"
             ],
             [
              0.1111111111111111,
              "#46039f"
             ],
             [
              0.2222222222222222,
              "#7201a8"
             ],
             [
              0.3333333333333333,
              "#9c179e"
             ],
             [
              0.4444444444444444,
              "#bd3786"
             ],
             [
              0.5555555555555556,
              "#d8576b"
             ],
             [
              0.6666666666666666,
              "#ed7953"
             ],
             [
              0.7777777777777778,
              "#fb9f3a"
             ],
             [
              0.8888888888888888,
              "#fdca26"
             ],
             [
              1,
              "#f0f921"
             ]
            ],
            "type": "histogram2dcontour"
           }
          ],
          "mesh3d": [
           {
            "colorbar": {
             "outlinewidth": 0,
             "ticks": ""
            },
            "type": "mesh3d"
           }
          ],
          "parcoords": [
           {
            "line": {
             "colorbar": {
              "outlinewidth": 0,
              "ticks": ""
             }
            },
            "type": "parcoords"
           }
          ],
          "pie": [
           {
            "automargin": true,
            "type": "pie"
           }
          ],
          "scatter": [
           {
            "fillpattern": {
             "fillmode": "overlay",
             "size": 10,
             "solidity": 0.2
            },
            "type": "scatter"
           }
          ],
          "scatter3d": [
           {
            "line": {
             "colorbar": {
              "outlinewidth": 0,
              "ticks": ""
             }
            },
            "marker": {
             "colorbar": {
              "outlinewidth": 0,
              "ticks": ""
             }
            },
            "type": "scatter3d"
           }
          ],
          "scattercarpet": [
           {
            "marker": {
             "colorbar": {
              "outlinewidth": 0,
              "ticks": ""
             }
            },
            "type": "scattercarpet"
           }
          ],
          "scattergeo": [
           {
            "marker": {
             "colorbar": {
              "outlinewidth": 0,
              "ticks": ""
             }
            },
            "type": "scattergeo"
           }
          ],
          "scattergl": [
           {
            "marker": {
             "colorbar": {
              "outlinewidth": 0,
              "ticks": ""
             }
            },
            "type": "scattergl"
           }
          ],
          "scattermap": [
           {
            "marker": {
             "colorbar": {
              "outlinewidth": 0,
              "ticks": ""
             }
            },
            "type": "scattermap"
           }
          ],
          "scattermapbox": [
           {
            "marker": {
             "colorbar": {
              "outlinewidth": 0,
              "ticks": ""
             }
            },
            "type": "scattermapbox"
           }
          ],
          "scatterpolar": [
           {
            "marker": {
             "colorbar": {
              "outlinewidth": 0,
              "ticks": ""
             }
            },
            "type": "scatterpolar"
           }
          ],
          "scatterpolargl": [
           {
            "marker": {
             "colorbar": {
              "outlinewidth": 0,
              "ticks": ""
             }
            },
            "type": "scatterpolargl"
           }
          ],
          "scatterternary": [
           {
            "marker": {
             "colorbar": {
              "outlinewidth": 0,
              "ticks": ""
             }
            },
            "type": "scatterternary"
           }
          ],
          "surface": [
           {
            "colorbar": {
             "outlinewidth": 0,
             "ticks": ""
            },
            "colorscale": [
             [
              0,
              "#0d0887"
             ],
             [
              0.1111111111111111,
              "#46039f"
             ],
             [
              0.2222222222222222,
              "#7201a8"
             ],
             [
              0.3333333333333333,
              "#9c179e"
             ],
             [
              0.4444444444444444,
              "#bd3786"
             ],
             [
              0.5555555555555556,
              "#d8576b"
             ],
             [
              0.6666666666666666,
              "#ed7953"
             ],
             [
              0.7777777777777778,
              "#fb9f3a"
             ],
             [
              0.8888888888888888,
              "#fdca26"
             ],
             [
              1,
              "#f0f921"
             ]
            ],
            "type": "surface"
           }
          ],
          "table": [
           {
            "cells": {
             "fill": {
              "color": "#EBF0F8"
             },
             "line": {
              "color": "white"
             }
            },
            "header": {
             "fill": {
              "color": "#C8D4E3"
             },
             "line": {
              "color": "white"
             }
            },
            "type": "table"
           }
          ]
         },
         "layout": {
          "annotationdefaults": {
           "arrowcolor": "#2a3f5f",
           "arrowhead": 0,
           "arrowwidth": 1
          },
          "autotypenumbers": "strict",
          "coloraxis": {
           "colorbar": {
            "outlinewidth": 0,
            "ticks": ""
           }
          },
          "colorscale": {
           "diverging": [
            [
             0,
             "#8e0152"
            ],
            [
             0.1,
             "#c51b7d"
            ],
            [
             0.2,
             "#de77ae"
            ],
            [
             0.3,
             "#f1b6da"
            ],
            [
             0.4,
             "#fde0ef"
            ],
            [
             0.5,
             "#f7f7f7"
            ],
            [
             0.6,
             "#e6f5d0"
            ],
            [
             0.7,
             "#b8e186"
            ],
            [
             0.8,
             "#7fbc41"
            ],
            [
             0.9,
             "#4d9221"
            ],
            [
             1,
             "#276419"
            ]
           ],
           "sequential": [
            [
             0,
             "#0d0887"
            ],
            [
             0.1111111111111111,
             "#46039f"
            ],
            [
             0.2222222222222222,
             "#7201a8"
            ],
            [
             0.3333333333333333,
             "#9c179e"
            ],
            [
             0.4444444444444444,
             "#bd3786"
            ],
            [
             0.5555555555555556,
             "#d8576b"
            ],
            [
             0.6666666666666666,
             "#ed7953"
            ],
            [
             0.7777777777777778,
             "#fb9f3a"
            ],
            [
             0.8888888888888888,
             "#fdca26"
            ],
            [
             1,
             "#f0f921"
            ]
           ],
           "sequentialminus": [
            [
             0,
             "#0d0887"
            ],
            [
             0.1111111111111111,
             "#46039f"
            ],
            [
             0.2222222222222222,
             "#7201a8"
            ],
            [
             0.3333333333333333,
             "#9c179e"
            ],
            [
             0.4444444444444444,
             "#bd3786"
            ],
            [
             0.5555555555555556,
             "#d8576b"
            ],
            [
             0.6666666666666666,
             "#ed7953"
            ],
            [
             0.7777777777777778,
             "#fb9f3a"
            ],
            [
             0.8888888888888888,
             "#fdca26"
            ],
            [
             1,
             "#f0f921"
            ]
           ]
          },
          "colorway": [
           "#636efa",
           "#EF553B",
           "#00cc96",
           "#ab63fa",
           "#FFA15A",
           "#19d3f3",
           "#FF6692",
           "#B6E880",
           "#FF97FF",
           "#FECB52"
          ],
          "font": {
           "color": "#2a3f5f"
          },
          "geo": {
           "bgcolor": "white",
           "lakecolor": "white",
           "landcolor": "#E5ECF6",
           "showlakes": true,
           "showland": true,
           "subunitcolor": "white"
          },
          "hoverlabel": {
           "align": "left"
          },
          "hovermode": "closest",
          "mapbox": {
           "style": "light"
          },
          "paper_bgcolor": "white",
          "plot_bgcolor": "#E5ECF6",
          "polar": {
           "angularaxis": {
            "gridcolor": "white",
            "linecolor": "white",
            "ticks": ""
           },
           "bgcolor": "#E5ECF6",
           "radialaxis": {
            "gridcolor": "white",
            "linecolor": "white",
            "ticks": ""
           }
          },
          "scene": {
           "xaxis": {
            "backgroundcolor": "#E5ECF6",
            "gridcolor": "white",
            "gridwidth": 2,
            "linecolor": "white",
            "showbackground": true,
            "ticks": "",
            "zerolinecolor": "white"
           },
           "yaxis": {
            "backgroundcolor": "#E5ECF6",
            "gridcolor": "white",
            "gridwidth": 2,
            "linecolor": "white",
            "showbackground": true,
            "ticks": "",
            "zerolinecolor": "white"
           },
           "zaxis": {
            "backgroundcolor": "#E5ECF6",
            "gridcolor": "white",
            "gridwidth": 2,
            "linecolor": "white",
            "showbackground": true,
            "ticks": "",
            "zerolinecolor": "white"
           }
          },
          "shapedefaults": {
           "line": {
            "color": "#2a3f5f"
           }
          },
          "ternary": {
           "aaxis": {
            "gridcolor": "white",
            "linecolor": "white",
            "ticks": ""
           },
           "baxis": {
            "gridcolor": "white",
            "linecolor": "white",
            "ticks": ""
           },
           "bgcolor": "#E5ECF6",
           "caxis": {
            "gridcolor": "white",
            "linecolor": "white",
            "ticks": ""
           }
          },
          "title": {
           "x": 0.05
          },
          "xaxis": {
           "automargin": true,
           "gridcolor": "white",
           "linecolor": "white",
           "ticks": "",
           "title": {
            "standoff": 15
           },
           "zerolinecolor": "white",
           "zerolinewidth": 2
          },
          "yaxis": {
           "automargin": true,
           "gridcolor": "white",
           "linecolor": "white",
           "ticks": "",
           "title": {
            "standoff": 15
           },
           "zerolinecolor": "white",
           "zerolinewidth": 2
          }
         }
        },
        "title": {
         "text": "FRIENDS Episodes: PCA Visualization (Weirdest Highlighted)"
        },
        "xaxis": {
         "anchor": "y",
         "domain": [
          0,
          1
         ],
         "title": {
          "text": "pca1"
         }
        },
        "yaxis": {
         "anchor": "x",
         "domain": [
          0,
          1
         ],
         "title": {
          "text": "pca2"
         }
        }
       }
      }
     },
     "metadata": {},
     "output_type": "display_data"
    }
   ],
   "source": [
    "from sklearn.decomposition import PCA\n",
    "import plotly.express as px\n",
    "pca = PCA(n_components=2, random_state=42)\n",
    "pca_result = pca.fit_transform(embeddings)\n",
    "df['pca1'] = pca_result[:, 0]\n",
    "df['pca2'] = pca_result[:, 1]\n",
    "\n",
    "weirdest_indices = weirdest.index\n",
    "df['is_weird'] = df.index.isin(weirdest_indices)\n",
    "\n",
    "# 3. Plot with Plotly\n",
    "fig = px.scatter(\n",
    "    df,\n",
    "    x='pca1',\n",
    "    y='pca2',\n",
    "    color='is_weird',\n",
    "    hover_name='Episode_Title',\n",
    "    symbol='is_weird',  # Optional: different marker for weirdest\n",
    "    title='FRIENDS Episodes: PCA Visualization (Weirdest Highlighted)'\n",
    ")\n",
    "fig.show()"
   ]
  },
  {
   "cell_type": "markdown",
   "id": "25a29f26",
   "metadata": {},
   "source": [
    "**Important Caveat:**  \n",
    "PCA is a lossy compression technique. It preserves the directions of greatest variance, but inevitably discards a lot of information. As a result, the 2D plot is only an approximation of the true relationships in the full embedding space. Some episodes that appear \"normal\" in 2D may be outliers in 384D, and vice versa."
   ]
  },
  {
   "cell_type": "markdown",
   "id": "49e41b80",
   "metadata": {},
   "source": [
    "## Saving Embeddings and Results\n",
    "\n",
    "For reproducibility and future analysis, we save the computed embeddings as a NumPy file and the DataFrame (with all relevant columns) as a CSV or pickle file."
   ]
  },
  {
   "cell_type": "code",
   "execution_count": 10,
   "id": "67169d52",
   "metadata": {},
   "outputs": [],
   "source": [
    "import numpy as np\n",
    "np.save('friends_episode_embeddings.npy', embeddings)\n",
    "df[[\"Episode_Title\",\"Summary\"]].to_csv('friends_title_summary.csv', index=False)"
   ]
  },
  {
   "cell_type": "markdown",
   "id": "7ea15be6",
   "metadata": {},
   "source": [
    "## Summary\n",
    "\n",
    "- We embedded FRIENDS episode texts into high-dimensional vectors.\n",
    "- Used Isolation Forest to detect the weirdest episodes.\n",
    "- Visualized the results in 2D using PCA, with caveats about dimensionality reduction.\n",
    "- Saved the results for future use.\n",
    "\n",
    "This workflow demonstrates how modern NLP and unsupervised learning can be combined to explore and analyze pop culture datasets in creative ways!"
   ]
  },
  {
   "cell_type": "markdown",
   "id": "0b2881d4",
   "metadata": {},
   "source": []
  }
 ],
 "metadata": {
  "kernelspec": {
   "display_name": "Python 3",
   "language": "python",
   "name": "python3"
  },
  "language_info": {
   "codemirror_mode": {
    "name": "ipython",
    "version": 3
   },
   "file_extension": ".py",
   "mimetype": "text/x-python",
   "name": "python",
   "nbconvert_exporter": "python",
   "pygments_lexer": "ipython3",
   "version": "3.13.2"
  }
 },
 "nbformat": 4,
 "nbformat_minor": 5
}
