{
 "cells": [
  {
   "cell_type": "code",
   "execution_count": null,
   "id": "6cc399be",
   "metadata": {},
   "outputs": [],
   "source": [
    "#Tortured Bots Department - an attempt to train a small transformer model\n",
    "#Dataset link: https://www.kaggle.com/datasets/madroscla/taylor-swift-released-song-discography-genius\n",
    "#Attempt is to train a model on Taylor Swift's 11th Album \"The Tortured Poets Department\" lyrics\n",
    "#And occasionally do some cringe in the name of documentation\n",
    "#NOTE: The album contains explicit lyrics, so the model will be trained on the explicit version of the lyrics\n",
    "#And the model will generate explicit lyrics"
   ]
  },
  {
   "cell_type": "markdown",
   "id": "723b7e08",
   "metadata": {},
   "source": [
    "# Transformer-Based Lyric Generation: Technical Workflow\n",
    "\n",
    "This notebook documents the end-to-end process of building, training, and evaluating a transformer model for lyric generation using Taylor Swift's discography (song lyrics of THE TORTURED POETS DEPARTMENT (Original Version and The Anthology)) as the dataset. The workflow includes data preprocessing, tokenization, model architecture, training with early stopping and learning rate scheduling, hyperparameter optimization, and model serialization."
   ]
  },
  {
   "cell_type": "markdown",
   "id": "31b3caa6",
   "metadata": {},
   "source": [
    "## Data Loading\n",
    "\n",
    "We begin by importing the dataset containing Taylor Swift's released song discography. The dataset includes metadata and lyrics for each track. We use pandas for efficient data manipulation and exploration."
   ]
  },
  {
   "cell_type": "code",
   "execution_count": 2,
   "id": "767337b4",
   "metadata": {},
   "outputs": [
    {
     "data": {
      "text/html": [
       "<div>\n",
       "<style scoped>\n",
       "    .dataframe tbody tr th:only-of-type {\n",
       "        vertical-align: middle;\n",
       "    }\n",
       "\n",
       "    .dataframe tbody tr th {\n",
       "        vertical-align: top;\n",
       "    }\n",
       "\n",
       "    .dataframe thead th {\n",
       "        text-align: right;\n",
       "    }\n",
       "</style>\n",
       "<table border=\"1\" class=\"dataframe\">\n",
       "  <thead>\n",
       "    <tr style=\"text-align: right;\">\n",
       "      <th></th>\n",
       "      <th>album_title</th>\n",
       "      <th>album_url</th>\n",
       "      <th>category</th>\n",
       "      <th>album_track_number</th>\n",
       "      <th>song_title</th>\n",
       "      <th>song_url</th>\n",
       "      <th>song_artists</th>\n",
       "      <th>song_release_date</th>\n",
       "      <th>song_page_views</th>\n",
       "      <th>song_lyrics</th>\n",
       "      <th>song_writers</th>\n",
       "      <th>song_producers</th>\n",
       "      <th>song_tags</th>\n",
       "    </tr>\n",
       "  </thead>\n",
       "  <tbody>\n",
       "    <tr>\n",
       "      <th>0</th>\n",
       "      <td>Taylor Swift</td>\n",
       "      <td>https://genius.com/albums/Taylor-Swift/Taylor-...</td>\n",
       "      <td>Taylor Swift</td>\n",
       "      <td>1</td>\n",
       "      <td>Tim McGraw</td>\n",
       "      <td>https://genius.com/Taylor-swift-tim-mcgraw-lyrics</td>\n",
       "      <td>['Taylor Swift']</td>\n",
       "      <td>2006-06-19</td>\n",
       "      <td>290200</td>\n",
       "      <td>['He said the way my blue eyes shined', 'Put t...</td>\n",
       "      <td>['Liz Rose', 'Taylor Swift']</td>\n",
       "      <td>['Nathan Chapman']</td>\n",
       "      <td>['Country', 'In English', 'USA', 'Country Rock...</td>\n",
       "    </tr>\n",
       "    <tr>\n",
       "      <th>1</th>\n",
       "      <td>Taylor Swift</td>\n",
       "      <td>https://genius.com/albums/Taylor-Swift/Taylor-...</td>\n",
       "      <td>Taylor Swift</td>\n",
       "      <td>2</td>\n",
       "      <td>Picture to Burn</td>\n",
       "      <td>https://genius.com/Taylor-swift-picture-to-bur...</td>\n",
       "      <td>['Taylor Swift']</td>\n",
       "      <td>2006-10-24</td>\n",
       "      <td>292500</td>\n",
       "      <td>[\"State the obvious, I didn't get my perfect f...</td>\n",
       "      <td>['Liz Rose', 'Taylor Swift']</td>\n",
       "      <td>['Nathan Chapman']</td>\n",
       "      <td>['Pop', 'Rock', 'Country', 'In English', 'USA'...</td>\n",
       "    </tr>\n",
       "    <tr>\n",
       "      <th>2</th>\n",
       "      <td>Taylor Swift</td>\n",
       "      <td>https://genius.com/albums/Taylor-Swift/Taylor-...</td>\n",
       "      <td>Taylor Swift</td>\n",
       "      <td>3</td>\n",
       "      <td>Teardrops On My Guitar</td>\n",
       "      <td>https://genius.com/Taylor-swift-teardrops-on-m...</td>\n",
       "      <td>['Taylor Swift']</td>\n",
       "      <td>2006-10-24</td>\n",
       "      <td>258800</td>\n",
       "      <td>['Drew looks at me', \"I fake a smile so he won...</td>\n",
       "      <td>['Liz Rose', 'Taylor Swift']</td>\n",
       "      <td>['Nathan Chapman']</td>\n",
       "      <td>['Country', 'In English', 'USA', 'Adult Contem...</td>\n",
       "    </tr>\n",
       "    <tr>\n",
       "      <th>3</th>\n",
       "      <td>Taylor Swift</td>\n",
       "      <td>https://genius.com/albums/Taylor-Swift/Taylor-...</td>\n",
       "      <td>Taylor Swift</td>\n",
       "      <td>4</td>\n",
       "      <td>A Place In This World</td>\n",
       "      <td>https://genius.com/Taylor-swift-a-place-in-thi...</td>\n",
       "      <td>['Taylor Swift']</td>\n",
       "      <td>2006-10-24</td>\n",
       "      <td>91400</td>\n",
       "      <td>[\"I don't know what I want, so don't ask me\", ...</td>\n",
       "      <td>['Angelo Petraglia', 'Robert Ellis Orrall', 'T...</td>\n",
       "      <td>['Nathan Chapman']</td>\n",
       "      <td>['Country', 'Pop', 'In English', 'USA', 'Teen ...</td>\n",
       "    </tr>\n",
       "    <tr>\n",
       "      <th>4</th>\n",
       "      <td>Taylor Swift</td>\n",
       "      <td>https://genius.com/albums/Taylor-Swift/Taylor-...</td>\n",
       "      <td>Taylor Swift</td>\n",
       "      <td>5</td>\n",
       "      <td>Cold as You</td>\n",
       "      <td>https://genius.com/Taylor-swift-cold-as-you-ly...</td>\n",
       "      <td>['Taylor Swift']</td>\n",
       "      <td>2006-10-24</td>\n",
       "      <td>148000</td>\n",
       "      <td>['You have a way of coming easily to me', 'And...</td>\n",
       "      <td>['Liz Rose', 'Taylor Swift']</td>\n",
       "      <td>['Nathan Chapman']</td>\n",
       "      <td>['Country', 'Pop', 'In English', 'USA', 'Balla...</td>\n",
       "    </tr>\n",
       "  </tbody>\n",
       "</table>\n",
       "</div>"
      ],
      "text/plain": [
       "    album_title                                          album_url  \\\n",
       "0  Taylor Swift  https://genius.com/albums/Taylor-Swift/Taylor-...   \n",
       "1  Taylor Swift  https://genius.com/albums/Taylor-Swift/Taylor-...   \n",
       "2  Taylor Swift  https://genius.com/albums/Taylor-Swift/Taylor-...   \n",
       "3  Taylor Swift  https://genius.com/albums/Taylor-Swift/Taylor-...   \n",
       "4  Taylor Swift  https://genius.com/albums/Taylor-Swift/Taylor-...   \n",
       "\n",
       "       category  album_track_number              song_title  \\\n",
       "0  Taylor Swift                   1              Tim McGraw   \n",
       "1  Taylor Swift                   2         Picture to Burn   \n",
       "2  Taylor Swift                   3  Teardrops On My Guitar   \n",
       "3  Taylor Swift                   4   A Place In This World   \n",
       "4  Taylor Swift                   5             Cold as You   \n",
       "\n",
       "                                            song_url      song_artists  \\\n",
       "0  https://genius.com/Taylor-swift-tim-mcgraw-lyrics  ['Taylor Swift']   \n",
       "1  https://genius.com/Taylor-swift-picture-to-bur...  ['Taylor Swift']   \n",
       "2  https://genius.com/Taylor-swift-teardrops-on-m...  ['Taylor Swift']   \n",
       "3  https://genius.com/Taylor-swift-a-place-in-thi...  ['Taylor Swift']   \n",
       "4  https://genius.com/Taylor-swift-cold-as-you-ly...  ['Taylor Swift']   \n",
       "\n",
       "  song_release_date  song_page_views  \\\n",
       "0        2006-06-19           290200   \n",
       "1        2006-10-24           292500   \n",
       "2        2006-10-24           258800   \n",
       "3        2006-10-24            91400   \n",
       "4        2006-10-24           148000   \n",
       "\n",
       "                                         song_lyrics  \\\n",
       "0  ['He said the way my blue eyes shined', 'Put t...   \n",
       "1  [\"State the obvious, I didn't get my perfect f...   \n",
       "2  ['Drew looks at me', \"I fake a smile so he won...   \n",
       "3  [\"I don't know what I want, so don't ask me\", ...   \n",
       "4  ['You have a way of coming easily to me', 'And...   \n",
       "\n",
       "                                        song_writers      song_producers  \\\n",
       "0                       ['Liz Rose', 'Taylor Swift']  ['Nathan Chapman']   \n",
       "1                       ['Liz Rose', 'Taylor Swift']  ['Nathan Chapman']   \n",
       "2                       ['Liz Rose', 'Taylor Swift']  ['Nathan Chapman']   \n",
       "3  ['Angelo Petraglia', 'Robert Ellis Orrall', 'T...  ['Nathan Chapman']   \n",
       "4                       ['Liz Rose', 'Taylor Swift']  ['Nathan Chapman']   \n",
       "\n",
       "                                           song_tags  \n",
       "0  ['Country', 'In English', 'USA', 'Country Rock...  \n",
       "1  ['Pop', 'Rock', 'Country', 'In English', 'USA'...  \n",
       "2  ['Country', 'In English', 'USA', 'Adult Contem...  \n",
       "3  ['Country', 'Pop', 'In English', 'USA', 'Teen ...  \n",
       "4  ['Country', 'Pop', 'In English', 'USA', 'Balla...  "
      ]
     },
     "execution_count": 2,
     "metadata": {},
     "output_type": "execute_result"
    }
   ],
   "source": [
    "import pandas as pd\n",
    "main_df = pd.read_csv(\"ts_discography_released.csv\")\n",
    "main_df.head()"
   ]
  },
  {
   "cell_type": "code",
   "execution_count": 3,
   "id": "f6e6d79e",
   "metadata": {},
   "outputs": [
    {
     "data": {
      "text/plain": [
       "(31, 13)"
      ]
     },
     "execution_count": 3,
     "metadata": {},
     "output_type": "execute_result"
    }
   ],
   "source": [
    "df = main_df[main_df['album_title'] == \"THE TORTURED POETS DEPARTMENT: THE ANTHOLOGY\"]\n",
    "df.shape"
   ]
  },
  {
   "cell_type": "markdown",
   "id": "bc83ae2a",
   "metadata": {},
   "source": [
    "## Data Preprocessing\n",
    "\n",
    "The raw lyrics are stored as stringified lists. We convert these to plain text, concatenate all lyrics, and perform basic cleaning:\n",
    "- Lowercasing all text\n",
    "- Removing punctuation and special characters\n",
    "- Collapsing multiple spaces\n",
    "\n",
    "This ensures the input to the model is consistent and noise-free."
   ]
  },
  {
   "cell_type": "code",
   "execution_count": 4,
   "id": "e4768cda",
   "metadata": {},
   "outputs": [
    {
     "name": "stdout",
     "output_type": "stream",
     "text": [
      "I was supposed to be sent away But they forgot to come and get me I was a functioning alcoholic 'Til nobody noticed my new aesthetic All of this to say I hope you're okay But you're the reason And no one here's to blame But what about your quiet treason? And for a fortnight there, we were forever Run into you sometimes, ask about the weather Now you're in my backyard, turned into good neighbors Your wife waters flowers, I wanna kill her [Verse 2: Taylor Swift,  Taylor Swift & Post Malone ,  Post Malone ] All my mornings are Mondays stuck in an  endless February I took the miracle move-on drug, the  effects were temporary And I love you, it's ruining my life I love you, it's ruining my life I touched you for only a fortnight I touched you , but I touched you [Chorus: Taylor Swift,  Taylor Swift & Post Malone ] And for a fortnight there,  we were forever Run into you sometimes, ask  about the weather Now you're in my backyard, turned  into good neighbors Your wife waters flowers, I wanna\n"
     ]
    }
   ],
   "source": [
    "#Now our df has the songs from the main+anthology album. \n",
    "#Lets get on to making the dataset. \n",
    "# Extract the lyrics column and flatten each song's lyrics list into a string\n",
    "import ast\n",
    "\n",
    "# Convert the string representation of lists to actual lists, then join them\n",
    "lyrics_list = df['song_lyrics'].apply(lambda x: ' '.join(ast.literal_eval(x)))\n",
    "\n",
    "# Combine all lyrics into one document\n",
    "full_lyrics_document = '\\n\\n'.join(lyrics_list)\n",
    "\n",
    "# Display a preview\n",
    "print(full_lyrics_document[:1000])  # Show first 1000 characters"
   ]
  },
  {
   "cell_type": "code",
   "execution_count": 5,
   "id": "f75bc4a5",
   "metadata": {},
   "outputs": [
    {
     "name": "stdout",
     "output_type": "stream",
     "text": [
      "i was supposed to be sent away but they forgot to come and get me i was a functioning alcoholic til nobody noticed my new aesthetic all of this to say i hope youre okay but youre the reason and no one heres to blame but what about your quiet treason and for a fortnight there we were forever run into you sometimes ask about the weather now youre in my backyard turned into good neighbors your wife waters flowers i wanna kill her verse 2 taylor swift taylor swift post malone post malone all my mornings are mondays stuck in an endless february i took the miracle moveon drug the effects were temporary and i love you its ruining my life i love you its ruining my life i touched you for only a fortnight i touched you but i touched you chorus taylor swift taylor swift post malone and for a fortnight there we were forever run into you sometimes ask about the weather now youre in my backyard turned into good neighbors your wife waters flowers i wanna kill her and for a fortnight there we were tog\n"
     ]
    }
   ],
   "source": [
    "import re\n",
    "\n",
    "# Lowercase the lyrics\n",
    "cleaned_lyrics = full_lyrics_document.lower()\n",
    "\n",
    "# Remove punctuation and special characters (keep only letters, numbers, and spaces)\n",
    "cleaned_lyrics = re.sub(r'[^a-z0-9\\s]', '', cleaned_lyrics)\n",
    "\n",
    "# Remove extra whitespace\n",
    "cleaned_lyrics = re.sub(r'\\s+', ' ', cleaned_lyrics).strip()\n",
    "\n",
    "# Save the cleaned lyrics to a new file\n",
    "with open('lyrics.txt', 'w', encoding='utf-8') as f:\n",
    "    f.write(cleaned_lyrics)\n",
    "\n",
    "# Display a preview\n",
    "print(cleaned_lyrics[:1000])  # Show first 1000 characters"
   ]
  },
  {
   "cell_type": "markdown",
   "id": "c290d8a0",
   "metadata": {},
   "source": [
    "## Tokenization and Vocabulary Construction\n",
    "\n",
    "We tokenize the cleaned lyrics using whitespace tokenization. A vocabulary is constructed from the unique tokens, and mappings (`word2idx` and `idx2word`) are created for efficient integer encoding and decoding. This step is critical for preparing the data for embedding layers in the transformer."
   ]
  },
  {
   "cell_type": "code",
   "execution_count": 6,
   "id": "d0ccae21",
   "metadata": {},
   "outputs": [
    {
     "name": "stdout",
     "output_type": "stream",
     "text": [
      "Vocab size: 1961\n",
      "First 20 tokens: ['i', 'was', 'supposed', 'to', 'be', 'sent', 'away', 'but', 'they', 'forgot', 'to', 'come', 'and', 'get', 'me', 'i', 'was', 'a', 'functioning', 'alcoholic']\n",
      "First 20 token IDs: [832, 1849, 1630, 1732, 106, 1430, 88, 217, 1691, 628, 1732, 321, 54, 665, 1027, 832, 1849, 3, 652, 34]\n"
     ]
    }
   ],
   "source": [
    "# Read cleaned lyrics\n",
    "with open('lyrics.txt', 'r', encoding='utf-8') as f:\n",
    "    text = f.read()\n",
    "\n",
    "# Whitespace tokenizer\n",
    "tokens = text.split()\n",
    "\n",
    "# Build vocabulary\n",
    "vocab = sorted(set(tokens))\n",
    "word2idx = {word: idx for idx, word in enumerate(vocab)}\n",
    "idx2word = {idx: word for word, idx in word2idx.items()}\n",
    "\n",
    "# Convert tokens to integer IDs\n",
    "token_ids = [word2idx[token] for token in tokens]\n",
    "\n",
    "print(\"Vocab size:\", len(vocab))\n",
    "print(\"First 20 tokens:\", tokens[:20])\n",
    "print(\"First 20 token IDs:\", token_ids[:20])"
   ]
  },
  {
   "cell_type": "markdown",
   "id": "429cdf2e",
   "metadata": {},
   "source": [
    "## Sequence and Batch Preparation\n",
    "\n",
    "The tokenized data is segmented into fixed-length sequences for training. Each input sequence is paired with a target sequence (the next tokens). Batching is performed to optimize GPU utilization and training speed."
   ]
  },
  {
   "cell_type": "code",
   "execution_count": 7,
   "id": "b2e3a19f",
   "metadata": {},
   "outputs": [
    {
     "name": "stdout",
     "output_type": "stream",
     "text": [
      "Inputs shape: torch.Size([33, 16, 20])\n",
      "Targets shape: torch.Size([33, 16, 20])\n"
     ]
    }
   ],
   "source": [
    "import torch\n",
    "\n",
    "def create_batches(token_ids, seq_length=10, batch_size=16):\n",
    "    # Number of sequences we can make\n",
    "    num_sequences = (len(token_ids) - 1) // seq_length\n",
    "    inputs = []\n",
    "    targets = []\n",
    "    for i in range(num_sequences):\n",
    "        start = i * seq_length\n",
    "        end = start + seq_length\n",
    "        input_seq = token_ids[start:end]\n",
    "        target_seq = token_ids[start+1:end+1]\n",
    "        if len(input_seq) == seq_length and len(target_seq) == seq_length:\n",
    "            inputs.append(input_seq)\n",
    "            targets.append(target_seq)\n",
    "    # Convert to tensors\n",
    "    inputs = torch.tensor(inputs)\n",
    "    targets = torch.tensor(targets)\n",
    "    # Shuffle and batch\n",
    "    num_batches = len(inputs) // batch_size\n",
    "    inputs = inputs[:num_batches*batch_size].view(num_batches, batch_size, seq_length)\n",
    "    targets = targets[:num_batches*batch_size].view(num_batches, batch_size, seq_length)\n",
    "    return inputs, targets\n",
    "\n",
    "# Example usage:\n",
    "seq_length = 20\n",
    "batch_size = 16\n",
    "inputs, targets = create_batches(token_ids, seq_length, batch_size)\n",
    "print(\"Inputs shape:\", inputs.shape)   # (num_batches, batch_size, seq_length)\n",
    "print(\"Targets shape:\", targets.shape) # (num_batches, batch_size, seq_length)"
   ]
  },
  {
   "cell_type": "markdown",
   "id": "17aa469f",
   "metadata": {},
   "source": [
    "## Model Architecture: Simple Transformer\n",
    "\n",
    "We implement a lightweight transformer encoder using PyTorch. The architecture includes:\n",
    "- Token and positional embeddings\n",
    "- One or more transformer encoder layers (configurable)\n",
    "- A linear output layer projecting to vocabulary size\n",
    "\n",
    "The model is designed for causal language modeling, using a causal mask to prevent information leakage from future tokens."
   ]
  },
  {
   "cell_type": "code",
   "execution_count": 8,
   "id": "e9257741",
   "metadata": {},
   "outputs": [],
   "source": [
    "def generate_causal_mask(seq_len):\n",
    "    # Mask shape: (seq_len, seq_len)\n",
    "    mask = torch.triu(torch.ones(seq_len, seq_len), diagonal=1)\n",
    "    mask = mask.masked_fill(mask == 1, float('-inf'))\n",
    "    return mask"
   ]
  },
  {
   "cell_type": "code",
   "execution_count": 10,
   "id": "2d39a295",
   "metadata": {},
   "outputs": [],
   "source": [
    "import torch.nn as nn\n",
    "\n",
    "class SimpleTransformer(nn.Module):\n",
    "    def __init__(self, vocab_size, seq_len=10, emb_dim=64, n_heads=2, n_blocks=1, ff_dim=128):\n",
    "        super().__init__()\n",
    "        self.embedding = nn.Embedding(vocab_size, emb_dim)\n",
    "        self.pos_embedding = nn.Parameter(torch.zeros(1, seq_len, emb_dim))\n",
    "        encoder_layer = nn.TransformerEncoderLayer(\n",
    "            d_model=emb_dim,\n",
    "            nhead=n_heads,\n",
    "            dim_feedforward=ff_dim,\n",
    "            batch_first=True,\n",
    "            dropout=0.1\n",
    "        )\n",
    "        self.transformer = nn.TransformerEncoder(encoder_layer, num_layers=n_blocks)\n",
    "        self.fc_out = nn.Linear(emb_dim, vocab_size)\n",
    "\n",
    "    def forward(self, x, mask=None):\n",
    "        x = self.embedding(x) + self.pos_embedding[:, :x.size(1), :]\n",
    "        x = self.transformer(x, mask=mask)\n",
    "        return self.fc_out(x)"
   ]
  },
  {
   "cell_type": "markdown",
   "id": "507cbd65",
   "metadata": {},
   "source": [
    "## Hyperparameter Optimization\n",
    "\n",
    "We use Optuna for automated hyperparameter search. The objective function explores combinations of:\n",
    "- Embedding dimension\n",
    "- Number of attention heads\n",
    "- Number of transformer blocks\n",
    "- Feedforward hidden dimension\n",
    "- Learning rate\n",
    "\n",
    "The best configuration is selected based on minimum training loss (or validation loss, if available)."
   ]
  },
  {
   "cell_type": "code",
   "execution_count": 12,
   "id": "e70c57bc",
   "metadata": {},
   "outputs": [
    {
     "name": "stderr",
     "output_type": "stream",
     "text": [
      "[I 2025-08-19 16:35:21,476] A new study created in memory with name: no-name-0b174b6b-28f3-45a1-8ed0-fdd43c8f735d\n",
      "C:\\Users\\mithu\\AppData\\Local\\Temp\\ipykernel_3996\\1826064211.py:9: FutureWarning: suggest_loguniform has been deprecated in v3.0.0. This feature will be removed in v6.0.0. See https://github.com/optuna/optuna/releases/tag/v3.0.0. Use suggest_float(..., log=True) instead.\n",
      "  lr = trial.suggest_loguniform('lr', 1e-4, 1e-2)\n",
      "[I 2025-08-19 16:35:38,859] Trial 0 finished with value: 2.6674491853424995 and parameters: {'emb_dim': 64, 'n_heads': 2, 'n_blocks': 2, 'ff_dim': 128, 'lr': 0.0030681638952794335}. Best is trial 0 with value: 2.6674491853424995.\n",
      "C:\\Users\\mithu\\AppData\\Local\\Temp\\ipykernel_3996\\1826064211.py:9: FutureWarning: suggest_loguniform has been deprecated in v3.0.0. This feature will be removed in v6.0.0. See https://github.com/optuna/optuna/releases/tag/v3.0.0. Use suggest_float(..., log=True) instead.\n",
      "  lr = trial.suggest_loguniform('lr', 1e-4, 1e-2)\n",
      "[I 2025-08-19 16:35:51,669] Trial 1 finished with value: 3.2302082162914854 and parameters: {'emb_dim': 64, 'n_heads': 4, 'n_blocks': 2, 'ff_dim': 64, 'lr': 0.0019470451302261934}. Best is trial 0 with value: 2.6674491853424995.\n",
      "C:\\Users\\mithu\\AppData\\Roaming\\Python\\Python313\\site-packages\\torch\\nn\\modules\\transformer.py:382: UserWarning: enable_nested_tensor is True, but self.use_nested_tensor is False because encoder_layer.self_attn.num_heads is odd\n",
      "  warnings.warn(\n",
      "[I 2025-08-19 16:36:06,991] Trial 2 finished with value: 5.965900189948805 and parameters: {'emb_dim': 32, 'n_heads': 1, 'n_blocks': 3, 'ff_dim': 64, 'lr': 0.0005514978561704771}. Best is trial 0 with value: 2.6674491853424995.\n",
      "[I 2025-08-19 16:36:13,694] Trial 3 finished with value: 6.204175255515358 and parameters: {'emb_dim': 32, 'n_heads': 4, 'n_blocks': 1, 'ff_dim': 64, 'lr': 0.00034098984550788797}. Best is trial 0 with value: 2.6674491853424995.\n",
      "[I 2025-08-19 16:36:31,649] Trial 4 finished with value: 6.167495380748402 and parameters: {'emb_dim': 64, 'n_heads': 2, 'n_blocks': 3, 'ff_dim': 128, 'lr': 0.005652659735978487}. Best is trial 0 with value: 2.6674491853424995.\n",
      "[I 2025-08-19 16:36:38,368] Trial 5 finished with value: 5.216386144811457 and parameters: {'emb_dim': 32, 'n_heads': 2, 'n_blocks': 1, 'ff_dim': 128, 'lr': 0.0012441760381199317}. Best is trial 0 with value: 2.6674491853424995.\n",
      "[I 2025-08-19 16:36:50,299] Trial 6 finished with value: 1.6576678536155007 and parameters: {'emb_dim': 128, 'n_heads': 1, 'n_blocks': 1, 'ff_dim': 256, 'lr': 0.005051709418335254}. Best is trial 6 with value: 1.6576678536155007.\n",
      "[I 2025-08-19 16:37:00,516] Trial 7 finished with value: 1.0460992726412686 and parameters: {'emb_dim': 128, 'n_heads': 4, 'n_blocks': 1, 'ff_dim': 64, 'lr': 0.007266225446794923}. Best is trial 7 with value: 1.0460992726412686.\n",
      "[I 2025-08-19 16:37:18,081] Trial 8 finished with value: 4.577109517473163 and parameters: {'emb_dim': 32, 'n_heads': 2, 'n_blocks': 3, 'ff_dim': 256, 'lr': 0.002285839017335612}. Best is trial 7 with value: 1.0460992726412686.\n",
      "[I 2025-08-19 16:37:28,188] Trial 9 finished with value: 6.003647298523874 and parameters: {'emb_dim': 64, 'n_heads': 4, 'n_blocks': 1, 'ff_dim': 256, 'lr': 0.00021563754581485086}. Best is trial 7 with value: 1.0460992726412686.\n",
      "[I 2025-08-19 16:37:47,621] Trial 10 finished with value: 6.1664612798979785 and parameters: {'emb_dim': 128, 'n_heads': 4, 'n_blocks': 2, 'ff_dim': 64, 'lr': 0.00766572339608903}. Best is trial 7 with value: 1.0460992726412686.\n",
      "[I 2025-08-19 16:38:01,082] Trial 11 finished with value: 2.649440743706443 and parameters: {'emb_dim': 128, 'n_heads': 1, 'n_blocks': 1, 'ff_dim': 256, 'lr': 0.008208558221988118}. Best is trial 7 with value: 1.0460992726412686.\n",
      "[I 2025-08-19 16:38:11,750] Trial 12 finished with value: 1.5173914938262014 and parameters: {'emb_dim': 128, 'n_heads': 1, 'n_blocks': 1, 'ff_dim': 256, 'lr': 0.003979947323868018}. Best is trial 7 with value: 1.0460992726412686.\n",
      "[I 2025-08-19 16:38:24,099] Trial 13 finished with value: 6.063672123533307 and parameters: {'emb_dim': 128, 'n_heads': 1, 'n_blocks': 1, 'ff_dim': 256, 'lr': 0.00010485867037871159}. Best is trial 7 with value: 1.0460992726412686.\n",
      "[I 2025-08-19 16:38:38,814] Trial 14 finished with value: 1.2443533630082102 and parameters: {'emb_dim': 128, 'n_heads': 4, 'n_blocks': 2, 'ff_dim': 64, 'lr': 0.0036091720204678357}. Best is trial 7 with value: 1.0460992726412686.\n",
      "[I 2025-08-19 16:38:56,589] Trial 15 finished with value: 6.165324196670994 and parameters: {'emb_dim': 128, 'n_heads': 4, 'n_blocks': 2, 'ff_dim': 64, 'lr': 0.009788674890404019}. Best is trial 7 with value: 1.0460992726412686.\n",
      "[I 2025-08-19 16:39:11,601] Trial 16 finished with value: 2.928816130667022 and parameters: {'emb_dim': 128, 'n_heads': 4, 'n_blocks': 2, 'ff_dim': 64, 'lr': 0.0009607063627461044}. Best is trial 7 with value: 1.0460992726412686.\n",
      "[I 2025-08-19 16:39:32,567] Trial 17 finished with value: 2.1384107596946484 and parameters: {'emb_dim': 128, 'n_heads': 4, 'n_blocks': 3, 'ff_dim': 64, 'lr': 0.001421677739950473}. Best is trial 7 with value: 1.0460992726412686.\n",
      "[I 2025-08-19 16:39:47,808] Trial 18 finished with value: 1.3529267925204653 and parameters: {'emb_dim': 128, 'n_heads': 4, 'n_blocks': 2, 'ff_dim': 64, 'lr': 0.00376107424428652}. Best is trial 7 with value: 1.0460992726412686.\n",
      "[I 2025-08-19 16:40:03,680] Trial 19 finished with value: 1.3395653637972744 and parameters: {'emb_dim': 128, 'n_heads': 4, 'n_blocks': 2, 'ff_dim': 64, 'lr': 0.0023704462939944885}. Best is trial 7 with value: 1.0460992726412686.\n"
     ]
    },
    {
     "name": "stdout",
     "output_type": "stream",
     "text": [
      "Best hyperparameters: {'emb_dim': 128, 'n_heads': 4, 'n_blocks': 1, 'ff_dim': 64, 'lr': 0.007266225446794923}\n"
     ]
    }
   ],
   "source": [
    "import optuna\n",
    "\n",
    "def objective(trial):\n",
    "    # Suggest hyperparameters\n",
    "    emb_dim = trial.suggest_categorical('emb_dim', [32, 64, 128])\n",
    "    n_heads = trial.suggest_categorical('n_heads', [1, 2, 4])\n",
    "    n_blocks = trial.suggest_int('n_blocks', 1, 3)\n",
    "    ff_dim = trial.suggest_categorical('ff_dim', [64, 128, 256])\n",
    "    lr = trial.suggest_loguniform('lr', 1e-4, 1e-2)\n",
    "    vocab_size = len(vocab)\n",
    "    # Rebuild model and optimizer with suggested params\n",
    "    model = SimpleTransformer(\n",
    "        vocab_size=vocab_size,\n",
    "        seq_len=seq_length,\n",
    "        emb_dim=emb_dim,\n",
    "        n_heads=n_heads,\n",
    "        n_blocks=n_blocks,\n",
    "        ff_dim=ff_dim\n",
    "    )\n",
    "    optimizer = torch.optim.Adam(model.parameters(), lr=lr)\n",
    "    criterion = nn.CrossEntropyLoss()\n",
    "    causal_mask = generate_causal_mask(seq_length).to(inputs.device)\n",
    "    \n",
    "    # Train for a few epochs (e.g., 10 for speed)\n",
    "    for epoch in range(10):\n",
    "        epoch_loss = 0.0\n",
    "        for batch in range(inputs.shape[0]):\n",
    "            inp = inputs[batch]\n",
    "            tgt = targets[batch]\n",
    "            optimizer.zero_grad()\n",
    "            output = model(inp, mask=causal_mask)\n",
    "            loss = criterion(output.view(-1, vocab_size), tgt.view(-1))\n",
    "            loss.backward()\n",
    "            optimizer.step()\n",
    "            epoch_loss += loss.item()\n",
    "        avg_loss = epoch_loss / inputs.shape[0]\n",
    "    return avg_loss  # Minimize this\n",
    "\n",
    "study = optuna.create_study(direction='minimize')\n",
    "study.optimize(objective, n_trials=20)  # Try 20 sets of hyperparameters\n",
    "\n",
    "print(\"Best hyperparameters:\", study.best_params)"
   ]
  },
  {
   "cell_type": "markdown",
   "id": "3092388c",
   "metadata": {},
   "source": [
    "## Training Loop: Early Stopping and Learning Rate Scheduling\n",
    "\n",
    "The training loop includes:\n",
    "- Forward and backward passes for each batch\n",
    "- Cross-entropy loss computation\n",
    "- Adam optimizer for parameter updates\n",
    "- Early stopping: Training halts if validation loss does not improve for a set number of epochs (patience)\n",
    "- Learning rate reduction: If loss plateaus, the learning rate is reduced by a factor, down to a minimum threshold\n",
    "\n",
    "This approach helps prevent overfitting and encourages convergence to a better local minimum."
   ]
  },
  {
   "cell_type": "code",
   "execution_count": 17,
   "id": "23c7ee24",
   "metadata": {},
   "outputs": [
    {
     "name": "stdout",
     "output_type": "stream",
     "text": [
      "Epoch 1/150, Average Loss: 6.7322\n",
      "Epoch 10/150, Average Loss: 1.0902\n",
      "Epoch 20/150, Average Loss: 0.6576\n",
      "Epoch 30/150, Average Loss: 0.4946\n",
      "Epoch 40/150, Average Loss: 0.4807\n",
      "Epoch 50/150, Average Loss: 0.4243\n",
      "Reducing learning rate from 0.007266 to 0.003633\n",
      "Epoch 60/150, Average Loss: 0.1726\n",
      "Epoch 70/150, Average Loss: 0.1645\n",
      "Reducing learning rate from 0.003633 to 0.001817\n",
      "Epoch 80/150, Average Loss: 0.1246\n",
      "Epoch 90/150, Average Loss: 0.1147\n",
      "Reducing learning rate from 0.001817 to 0.000908\n",
      "Epoch 100/150, Average Loss: 0.0988\n",
      "Reducing learning rate from 0.000908 to 0.000454\n",
      "Epoch 110/150, Average Loss: 0.0962\n",
      "Epoch 120/150, Average Loss: 0.0886\n",
      "Epoch 130/150, Average Loss: 0.0889\n",
      "Reducing learning rate from 0.000454 to 0.000227\n",
      "Epoch 140/150, Average Loss: 0.0871\n",
      "Reducing learning rate from 0.000227 to 0.000114\n",
      "Epoch 150/150, Average Loss: 0.0796\n"
     ]
    },
    {
     "data": {
      "image/png": "[encoded data removed]",
      "text/plain": [
       "<Figure size 640x480 with 1 Axes>"
      ]
     },
     "metadata": {},
     "output_type": "display_data"
    }
   ],
   "source": [
    "embedding_dim = 128\n",
    "num_heads = 4\n",
    "num_blocks = 1\n",
    "ff_hidden_dim = 64\n",
    "vocab_size = len(vocab)\n",
    "best_lr = 0.007266225446794923  # <-- use the best lr here\n",
    "\n",
    "model = SimpleTransformer(\n",
    "    vocab_size=vocab_size,\n",
    "    seq_len=seq_length,\n",
    "    emb_dim=embedding_dim,\n",
    "    n_heads=num_heads,\n",
    "    n_blocks=num_blocks,\n",
    "    ff_dim=ff_hidden_dim\n",
    ")\n",
    "\n",
    "optimizer = torch.optim.Adam(model.parameters(), lr=best_lr)  # <-- set lr here\n",
    "criterion = nn.CrossEntropyLoss()\n",
    "causal_mask = generate_causal_mask(seq_length).to(inputs.device)\n",
    "\n",
    "# ... (your model/optimizer/criterion setup) ...\n",
    "\n",
    "epochs = 150\n",
    "print_every = 10\n",
    "patience = 15  # Number of epochs to wait for improvement before stopping\n",
    "lr_patience = 7  # Number of epochs to wait before reducing LR\n",
    "lr_factor = 0.5  # Factor to reduce LR by\n",
    "min_lr = 1e-5    # Don't reduce below this\n",
    "best_loss = float('inf')\n",
    "epochs_no_improve = 0\n",
    "lr_epochs_no_improve = 0\n",
    "avg_losses = []\n",
    "\n",
    "for epoch in range(epochs):\n",
    "    epoch_loss = 0.0\n",
    "    for batch in range(inputs.shape[0]):\n",
    "        inp = inputs[batch]\n",
    "        tgt = targets[batch]\n",
    "        optimizer.zero_grad()\n",
    "        output = model(inp, mask=causal_mask)\n",
    "        loss = criterion(output.view(-1, vocab_size), tgt.view(-1))\n",
    "        loss.backward()\n",
    "        optimizer.step()\n",
    "        epoch_loss += loss.item()\n",
    "    avg_loss = epoch_loss / inputs.shape[0]\n",
    "    avg_losses.append(avg_loss)\n",
    "\n",
    "    # Print loss\n",
    "    if (epoch + 1) % print_every == 0 or epoch == 0:\n",
    "        print(f\"Epoch {epoch+1}/{epochs}, Average Loss: {avg_loss:.4f}\")\n",
    "\n",
    "    # Early stopping and LR scheduling\n",
    "    if avg_loss < best_loss - 1e-4:  # 1e-4 is a small threshold to avoid noise\n",
    "        best_loss = avg_loss\n",
    "        epochs_no_improve = 0\n",
    "        lr_epochs_no_improve = 0\n",
    "    else:\n",
    "        epochs_no_improve += 1\n",
    "        lr_epochs_no_improve += 1\n",
    "\n",
    "    # Reduce LR on plateau\n",
    "    if lr_epochs_no_improve >= lr_patience:\n",
    "        for param_group in optimizer.param_groups:\n",
    "            old_lr = param_group['lr']\n",
    "            new_lr = max(old_lr * lr_factor, min_lr)\n",
    "            if new_lr < old_lr:\n",
    "                print(f\"Reducing learning rate from {old_lr:.6f} to {new_lr:.6f}\")\n",
    "                param_group['lr'] = new_lr\n",
    "        lr_epochs_no_improve = 0\n",
    "\n",
    "    # Early stopping\n",
    "    if epochs_no_improve >= patience:\n",
    "        print(f\"Early stopping at epoch {epoch+1}. Best loss: {best_loss:.4f}\")\n",
    "        break\n",
    "\n",
    "# Optionally plot the loss curve\n",
    "import matplotlib.pyplot as plt\n",
    "plt.plot(range(1, len(avg_losses)+1), avg_losses)\n",
    "plt.xlabel('Epoch')\n",
    "plt.ylabel('Average Loss')\n",
    "plt.title('Training Loss Curve')\n",
    "plt.show()"
   ]
  },
  {
   "cell_type": "markdown",
   "id": "736001f0",
   "metadata": {},
   "source": [
    "## Model Evaluation and Generation\n",
    "\n",
    "After training, we evaluate the model's ability to generate lyrics. Given a prompt (seed tokens), the model autoregressively predicts subsequent tokens. Sampling temperature can be adjusted to control output diversity.\n",
    "\n",
    "*Note: While the model may not win a Grammy, it demonstrates the core mechanics of transformer-based text generation.*"
   ]
  },
  {
   "cell_type": "code",
   "execution_count": 18,
   "id": "a0772cc4",
   "metadata": {},
   "outputs": [
    {
     "name": "stdout",
     "output_type": "stream",
     "text": [
      "Generated lyrics:\n",
      "i was supposed to be sent away but they forgot to come and get me i was a functioning alcoholic til you get me kill\n"
     ]
    }
   ],
   "source": [
    "import torch.nn.functional as F\n",
    "\n",
    "def generate(model, start_tokens, word2idx, idx2word, length=50, temperature=1.0):\n",
    "    model.eval()\n",
    "    input_seq = torch.tensor([word2idx[token] for token in start_tokens], dtype=torch.long).unsqueeze(0)\n",
    "    generated = start_tokens.copy()\n",
    "    for _ in range(length):\n",
    "        with torch.no_grad():\n",
    "            mask = generate_causal_mask(input_seq.size(1)).to(input_seq.device)\n",
    "            output = model(input_seq, mask=mask)\n",
    "            next_token_logits = output[0, -1, :] / temperature\n",
    "            probs = F.softmax(next_token_logits, dim=-1)\n",
    "            next_token_id = torch.multinomial(probs, num_samples=1).item()\n",
    "            next_word = idx2word[next_token_id]\n",
    "            generated.append(next_word)\n",
    "            input_seq = torch.cat([input_seq, torch.tensor([[next_token_id]])], dim=1)\n",
    "            if input_seq.size(1) > model.pos_embedding.size(1):\n",
    "                input_seq = input_seq[:, -model.pos_embedding.size(1):]\n",
    "    return ' '.join(generated)\n",
    "\n",
    "# Example usage:\n",
    "start_tokens = tokens[:5]  # Longer seed for coherence\n",
    "print(\"Generated lyrics:\")\n",
    "print(generate(model, start_tokens, word2idx, idx2word, length=20, temperature=1))"
   ]
  },
  {
   "cell_type": "code",
   "execution_count": 19,
   "id": "219c56c7",
   "metadata": {},
   "outputs": [
    {
     "name": "stdout",
     "output_type": "stream",
     "text": [
      "Generated lyrics:\n",
      "down bad wavin at the ship fuck it if i cant have him like i lost my twin fuck it if i\n"
     ]
    }
   ],
   "source": [
    "def preprocess_prompt(prompt, vocab):\n",
    "    import re\n",
    "    prompt = prompt.lower()\n",
    "    prompt = re.sub(r'[^a-z0-9\\s]', '', prompt)\n",
    "    prompt = re.sub(r'\\s+', ' ', prompt).strip()\n",
    "    prompt_tokens = prompt.split()\n",
    "    # Only keep tokens in vocab\n",
    "    prompt_tokens = [token for token in prompt_tokens if token in vocab]\n",
    "    return prompt_tokens\n",
    "\n",
    "user_prompt = input(\"Enter your lyric prompt: \")\n",
    "start_tokens = preprocess_prompt(user_prompt, vocab)\n",
    "if not start_tokens:\n",
    "    print(\"No valid tokens from prompt found in vocabulary.\")\n",
    "else:\n",
    "    print(\"Generated lyrics:\")\n",
    "    print(generate(model, start_tokens, word2idx, idx2word, length=20, temperature=0.13))"
   ]
  },
  {
   "cell_type": "code",
   "execution_count": 20,
   "id": "4a32fff7",
   "metadata": {},
   "outputs": [
    {
     "data": {
      "image/png": "[encoded data removed]",
      "text/plain": [
       "<Figure size 640x480 with 2 Axes>"
      ]
     },
     "metadata": {},
     "output_type": "display_data"
    }
   ],
   "source": [
    "def visualize_attention(model, input_tokens, word2idx, idx2word):\n",
    "    import matplotlib.pyplot as plt\n",
    "    input_ids = torch.tensor([word2idx[token] for token in input_tokens], dtype=torch.long).unsqueeze(0)\n",
    "    encoder_layer = model.transformer.layers[0]\n",
    "    with torch.no_grad():\n",
    "        emb = model.embedding(input_ids) + model.pos_embedding[:, :input_ids.size(1), :]\n",
    "        attn_output, attn_weights = encoder_layer.self_attn(\n",
    "            emb, emb, emb, need_weights=True, attn_mask=None\n",
    "        )\n",
    "    # Try both possible shapes\n",
    "    attn_weights = attn_weights.cpu().numpy()\n",
    "    if attn_weights.ndim == 4:\n",
    "        # (num_heads, batch_size, seq_len, seq_len)\n",
    "        attn_matrix = attn_weights[0, 0]  # first head, first batch\n",
    "    elif attn_weights.ndim == 3:\n",
    "        # (batch_size, seq_len, seq_len)\n",
    "        attn_matrix = attn_weights[0]     # first batch\n",
    "    else:\n",
    "        raise ValueError(f\"Unexpected attn_weights shape: {attn_weights.shape}\")\n",
    "    plt.imshow(attn_matrix, cmap='viridis')\n",
    "    plt.xticks(range(len(input_tokens)), input_tokens, rotation=90)\n",
    "    plt.yticks(range(len(input_tokens)), input_tokens)\n",
    "    plt.xlabel('Key Position')\n",
    "    plt.ylabel('Query Position')\n",
    "    plt.title('Attention Weights (Head 0)')\n",
    "    plt.colorbar()\n",
    "    plt.show()\n",
    "\n",
    "# Example usage:\n",
    "sample_tokens = tokens[:10]\n",
    "visualize_attention(model, sample_tokens, word2idx, idx2word)"
   ]
  },
  {
   "cell_type": "markdown",
   "id": "39b5aabb",
   "metadata": {},
   "source": [
    "## Model Serialization\n",
    "\n",
    "For reproducibility and future inference, we serialize both:\n",
    "- The full model object (`.pth`)\n",
    "- The model's state dictionary (`state_dict.pth`)\n",
    "\n",
    "This allows for flexible reloading, either for continued training or deployment."
   ]
  },
  {
   "cell_type": "code",
   "execution_count": 21,
   "id": "38654fa0",
   "metadata": {},
   "outputs": [
    {
     "name": "stdout",
     "output_type": "stream",
     "text": [
      "Saved both the full model and the state_dict in the working directory.\n"
     ]
    }
   ],
   "source": [
    "# Save the entire model\n",
    "torch.save(model, 'tortured_transformer_model.pth')\n",
    "\n",
    "# Save only the model's state_dict\n",
    "torch.save(model.state_dict(), 'tortured_transformer_state_dict.pth')\n",
    "\n",
    "print(\"Saved both the full model and the state_dict in the working directory.\")"
   ]
  },
  {
   "cell_type": "markdown",
   "id": "c23bf7e8",
   "metadata": {},
   "source": [
    "# Conclusion\n",
    "\n",
    "This notebook demonstrates a complete workflow for training a transformer model on a real-world text dataset, with robust engineering practices including data cleaning, batching, early stopping, learning rate scheduling, and hyperparameter optimization. The approach is extensible to other sequence modeling tasks.\n",
    "\n",
    "*If you made it this far, congratulations-you're the real mastermind.*"
   ]
  },
  {
   "cell_type": "markdown",
   "id": "7efd07ff",
   "metadata": {},
   "source": []
  }
 ],
 "metadata": {
  "kernelspec": {
   "display_name": "Python 3",
   "language": "python",
   "name": "python3"
  },
  "language_info": {
   "codemirror_mode": {
    "name": "ipython",
    "version": 3
   },
   "file_extension": ".py",
   "mimetype": "text/x-python",
   "name": "python",
   "nbconvert_exporter": "python",
   "pygments_lexer": "ipython3",
   "version": "3.13.2"
  }
 },
 "nbformat": 4,
 "nbformat_minor": 5
}
